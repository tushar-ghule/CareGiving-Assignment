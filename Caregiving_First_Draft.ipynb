{
 "cells": [
  {
   "cell_type": "code",
   "execution_count": 342,
   "metadata": {},
   "outputs": [],
   "source": [
    "class CareGiver:\n",
    "    def __init__(self, name, id, trust, approved = False):\n",
    "        self.m_name = name\n",
    "        self.m_id = id\n",
    "        self.m_trust = trust\n",
    "        self.m_isApproved = approved\n",
    "        self.m_ratings = {}\n",
    "        self.m_recipient = []\n",
    "        self.m_available = False\n",
    "        self.m_ratingAvg = 0\n",
    "        self.m_noOfClients = 0\n",
    "        self.m_trust.m_careGivers.append(self)\n",
    "        #bisect.insort_left(self.m_trust.m_careGivers, self)\n",
    "    \n",
    "    # Getters & Setters... \n",
    "    def GetTrusty(self):\n",
    "        return self.m_trust\n",
    "    def GetAvailability(self):\n",
    "        return self.m_available\n",
    "    def GetName(self):\n",
    "        return self.m_name\n",
    "    def GetAvgRating(self):\n",
    "        return self.m_ratingAvg\n",
    "    \n",
    "    #for sorting\n",
    "    def __lt__(self, other):\n",
    "        return self.m_ratingAvg < other.m_ratingAvg\n",
    "    \n",
    "    def GetApproved(self):\n",
    "        self.m_isApproved = True\n",
    "        self.m_available = True\n",
    "        return\n",
    "    def SetAvailability(self, available):\n",
    "        self.m_available = available\n",
    "        return\n",
    "        \n",
    "    def AllocateARecipient(self):\n",
    "        # Allocate a recipient if available, exchange connection, make recipient unavailable..\n",
    "        if(len(self.m_recipient) < 4):\n",
    "            recipient = self.m_trust.AllocateARecipient(self)\n",
    "            print(self.m_name, \" asked for the allocation of recipient..\")\n",
    "            if recipient != None :\n",
    "                # care giver may or may not get the recipient now but, since he has made himself available, \n",
    "                #he could be picked by a recipient \n",
    "                self.m_recipient.append(recipient)\n",
    "                print(self.m_name, \" got the allocation of recipient.. : \", recipient.m_name)\n",
    "                recipient.m_careGiver = self\n",
    "                self.SetAvailability(False) \n",
    "            else: \n",
    "                print(\"Seems no recipient available at the moment..\")\n",
    "        else:\n",
    "            print(\"Already have 4 recipients!!\")\n",
    "\n",
    "    def MakeYourselfAvailable(self):\n",
    "        if len(self.m_recipient) < 4 :\n",
    "            if self.m_isApproved :\n",
    "                self.m_available = True\n",
    "        # When caregiver is fired by the recipient, m_available is set to False, also when caregiver gets assigned new recipient\n",
    "        # m_available is set to False. Hence, if the caregiver want's more recipient, he has to set m_available to True and also \n",
    "        # call the function AllocateARecipient()\n",
    "        return\n",
    "    \n",
    "    def QuitARecipient(self, name, rating, reviews = \"\"):\n",
    "        # we have to remove connections from both sides. Just the way we formed the connection on both sides...\n",
    "        # remove the entry from the both sides \n",
    "        recipient = next((x for x in self.m_recipient if x.m_name == name), None)\n",
    "        if(recipient != None):\n",
    "            \n",
    "            recipient.m_careGiver = None\n",
    "            recipient.SetAvailability(True)\n",
    "            recipient.AllotTheRating(rating, reviews)      \n",
    "            self.m_recipient.remove(recipient)             ##can be generalized them in the trust class...\n",
    "            print(\"Quit successfully...\")\n",
    "        else: \n",
    "            print(\"Not my recipient....\")\n",
    "        return \n",
    "        \n",
    "        \n",
    "    def AllotTheRating(self, rating, reviews):\n",
    "        self.m_ratingAvg = (self.m_ratingAvg*self.m_noOfClients + rating)/(self.m_noOfClients + 1)\n",
    "        self.m_ratings.update( {rating : reviews})\n",
    "        self.m_noOfClients += 1\n",
    "        print(self.m_name, \" rating alloted\")\n",
    "        return None\n",
    "        "
   ]
  },
  {
   "cell_type": "code",
   "execution_count": 343,
   "metadata": {},
   "outputs": [],
   "source": [
    " class Trust:\n",
    "        def __init__(self):\n",
    "            self.m_careGivers = []\n",
    "            self.m_recipients = []\n",
    "            \n",
    "        def ShowAllTheCareGivers(self):\n",
    "            return self.m_careGivers\n",
    "        def AllocateARecipient(self, careGiver):\n",
    "            self.m_recipients.sort(key=lambda x: x.m_ratingAvg, reverse=True)\n",
    "            \n",
    "            for rec in self.m_recipients :\n",
    "                if(rec.GetAvailability()):\n",
    "                    rec.m_available = False\n",
    "                    return rec\n",
    "            return None\n",
    "        \n",
    "        def AllocateACareGiver(self, recipient):\n",
    "            self.m_careGivers.sort(key=lambda x: x.m_ratingAvg, reverse=True)\n",
    "            for cg in self.m_careGivers :\n",
    "                if(cg.GetAvailability()):\n",
    "                    if(len(cg.m_recipient) < 4):\n",
    "                        return cg\n",
    "            return None\n",
    "        \n",
    "        def ShowAllCaregiversData(self):\n",
    "            for cg in self.m_careGivers :\n",
    "                if cg != None :\n",
    "                    print(cg.GetName(), \" rating : \", cg.m_ratingAvg)\n",
    "                    for rating in cg.m_ratings :\n",
    "                        print(\"\\t\\t\\t\", rating, \" \", cg.m_ratings[rating])\n",
    "            return \n",
    "        \n",
    "        def ShowWhoIsTakingCareOfRecipients(self):\n",
    "            for rp in self.m_recipients :\n",
    "                if rp != None and rp.m_careGiver != None:\n",
    "                    print(rp.GetName(), \"    \\t\\t\\t Care Giver : \", rp.m_careGiver.m_name)\n",
    "                \n",
    "            "
   ]
  },
  {
   "cell_type": "code",
   "execution_count": 344,
   "metadata": {},
   "outputs": [],
   "source": [
    "class Recipient:\n",
    "    \n",
    "    def __init__(self, name, id, trust, available = True):\n",
    "        self.m_name = name\n",
    "        self.m_id = id;\n",
    "        self.m_trust = trust\n",
    "        self.m_available = available\n",
    "        self.m_careGiver = None\n",
    "        self.m_ratings = {}\n",
    "        self.m_ratingAvg = 0\n",
    "        self.m_noOfClients = 0\n",
    "        self.m_trust.m_recipients.append(self)\n",
    "        #bisect.insort_left(self.m_trust.m_recipients, self)\n",
    "    \n",
    "    # Getters & Setters...  \n",
    "    def GetTrusty(self):\n",
    "        return self.m_trust\n",
    "    def GetAvailability(self):\n",
    "        return self.m_available\n",
    "    def GetName(self):\n",
    "        return self.m_name\n",
    "    def SetAvailability(self, available):\n",
    "        self.m_available = available\n",
    "        return\n",
    "    #for sorting\n",
    "    def __lt__(self, other):\n",
    "        return self.m_ratingAvg < other.m_ratingAvg\n",
    "        \n",
    "    def AllocateACareGiver(self):\n",
    "        # find recipient that is available and exchange connections and make recipient unavailable..\n",
    "        if(self.m_careGiver == None):  \n",
    "            careGiver = self.GetTrusty().AllocateACareGiver(self) \n",
    "            if(careGiver != None):\n",
    "                # exchange info and make recipient unavailable. that's it....\n",
    "                self.m_careGiver = careGiver\n",
    "                careGiver.m_recipient.append(self)\n",
    "                self.SetAvailability(False)\n",
    "                print(\"Care giver allocated : \", careGiver.m_name)\n",
    "            else: \n",
    "                    print(\" No care givers available at the moment..\")\n",
    "        else:\n",
    "            print(\"Already have a caregiver ! : \", self.m_careGiver.m_name) \n",
    "        \n",
    "    def FireTheCareGiver(self, rating, reviews):\n",
    "        # remove the caregiver info \n",
    "        # Make youself available... for next care giver\n",
    "        if(self.m_careGiver != None):\n",
    "            self.m_careGiver.m_recipient.remove(self) \n",
    "            self.SetAvailability(True)\n",
    "            print(self.m_careGiver.m_name, \" Just got fired !\")\n",
    "            self.m_careGiver.AllotTheRating(rating, reviews) \n",
    "            self.m_careGiver = None\n",
    "        return\n",
    "    \n",
    "    def AllotTheRating(self, rating, reviews):\n",
    "        self.m_ratingAvg = (self.m_ratingAvg*self.m_noOfClients + rating)/(self.m_noOfClients + 1)\n",
    "        self.m_noOfClients += 1;\n",
    "        self.m_ratings.update( {rating : reviews} )"
   ]
  },
  {
   "cell_type": "code",
   "execution_count": 345,
   "metadata": {},
   "outputs": [],
   "source": [
    "theTrust = Trust()\n",
    "c1 = CareGiver(\"Tushar\", 1, theTrust)\n",
    "c2 = CareGiver(\"Prashant\", 2, theTrust)\n",
    "c3 = CareGiver(\"Adam\", 3, theTrust)\n",
    "c4 = CareGiver(\"Scott\", 4, theTrust)\n",
    "r1 = Recipient(\"Al Paccino\", 1, theTrust)\n",
    "r2 = Recipient(\"Robert\", 2, theTrust)\n",
    "r3 = Recipient(\"Joe\", 3, theTrust)\n",
    "r4 = Recipient(\"Perry\", 4, theTrust)\n",
    "r5 = Recipient(\"Ross\", 5, theTrust)\n",
    "r6 = Recipient(\"Monica\", 6, theTrust)"
   ]
  },
  {
   "cell_type": "code",
   "execution_count": 346,
   "metadata": {},
   "outputs": [],
   "source": [
    "c1.GetApproved()\n",
    "c2.GetApproved()\n",
    "c3.GetApproved()\n",
    "c4.GetApproved()"
   ]
  },
  {
   "cell_type": "code",
   "execution_count": 347,
   "metadata": {},
   "outputs": [
    {
     "name": "stdout",
     "output_type": "stream",
     "text": [
      "Tushar  asked for the allocation of recipient..\n",
      "Tushar  got the allocation of recipient.. :  Al Paccino\n",
      "Tushar  asked for the allocation of recipient..\n",
      "Tushar  got the allocation of recipient.. :  Robert\n"
     ]
    },
    {
     "data": {
      "text/plain": [
       "2"
      ]
     },
     "execution_count": 347,
     "metadata": {},
     "output_type": "execute_result"
    }
   ],
   "source": [
    "c1.AllocateARecipient()\n",
    "c1.AllocateARecipient()\n",
    "\n",
    "len(c1.m_recipient)"
   ]
  },
  {
   "cell_type": "code",
   "execution_count": 348,
   "metadata": {},
   "outputs": [
    {
     "name": "stdout",
     "output_type": "stream",
     "text": [
      "Prashant  asked for the allocation of recipient..\n",
      "Prashant  got the allocation of recipient.. :  Joe\n"
     ]
    }
   ],
   "source": [
    "c2.AllocateARecipient()"
   ]
  },
  {
   "cell_type": "code",
   "execution_count": 349,
   "metadata": {},
   "outputs": [
    {
     "name": "stdout",
     "output_type": "stream",
     "text": [
      "Adam  asked for the allocation of recipient..\n",
      "Adam  got the allocation of recipient.. :  Perry\n"
     ]
    }
   ],
   "source": [
    "c3.AllocateARecipient()"
   ]
  },
  {
   "cell_type": "code",
   "execution_count": 350,
   "metadata": {},
   "outputs": [
    {
     "name": "stdout",
     "output_type": "stream",
     "text": [
      "Prashant  asked for the allocation of recipient..\n",
      "Prashant  got the allocation of recipient.. :  Ross\n"
     ]
    }
   ],
   "source": [
    "c2.AllocateARecipient()"
   ]
  },
  {
   "cell_type": "code",
   "execution_count": 351,
   "metadata": {},
   "outputs": [
    {
     "name": "stdout",
     "output_type": "stream",
     "text": [
      "Tushar  asked for the allocation of recipient..\n",
      "Tushar  got the allocation of recipient.. :  Monica\n"
     ]
    }
   ],
   "source": [
    "c1.AllocateARecipient()"
   ]
  },
  {
   "cell_type": "markdown",
   "metadata": {},
   "source": [
    "### Let's see connections so far"
   ]
  },
  {
   "cell_type": "code",
   "execution_count": 352,
   "metadata": {},
   "outputs": [
    {
     "name": "stdout",
     "output_type": "stream",
     "text": [
      "Al Paccino     \t\t\t Care Giver :  Tushar\n",
      "Robert     \t\t\t Care Giver :  Tushar\n",
      "Joe     \t\t\t Care Giver :  Prashant\n",
      "Perry     \t\t\t Care Giver :  Adam\n",
      "Ross     \t\t\t Care Giver :  Prashant\n",
      "Monica     \t\t\t Care Giver :  Tushar\n"
     ]
    }
   ],
   "source": [
    "theTrust.ShowWhoIsTakingCareOfRecipients()"
   ]
  },
  {
   "cell_type": "markdown",
   "metadata": {},
   "source": [
    "### When care givers quite on the recipients"
   ]
  },
  {
   "cell_type": "code",
   "execution_count": 353,
   "metadata": {},
   "outputs": [
    {
     "name": "stdout",
     "output_type": "stream",
     "text": [
      "Quit successfully...\n"
     ]
    }
   ],
   "source": [
    "c1.QuitARecipient(\"Monica\", 4, \"Good lady\")"
   ]
  },
  {
   "cell_type": "code",
   "execution_count": 354,
   "metadata": {},
   "outputs": [
    {
     "name": "stdout",
     "output_type": "stream",
     "text": [
      "Quit successfully...\n"
     ]
    }
   ],
   "source": [
    "c3.QuitARecipient(\"Perry\", 3, \"Good lady\")"
   ]
  },
  {
   "cell_type": "code",
   "execution_count": 355,
   "metadata": {},
   "outputs": [
    {
     "name": "stdout",
     "output_type": "stream",
     "text": [
      "Quit successfully...\n"
     ]
    }
   ],
   "source": [
    "c2.QuitARecipient(\"Ross\", 1, \"Good lady\")"
   ]
  },
  {
   "cell_type": "code",
   "execution_count": 356,
   "metadata": {},
   "outputs": [
    {
     "name": "stdout",
     "output_type": "stream",
     "text": [
      "Quit successfully...\n"
     ]
    }
   ],
   "source": [
    "c1.QuitARecipient(\"Al Paccino\", 1.5, \"Huuaa\")"
   ]
  },
  {
   "cell_type": "code",
   "execution_count": 357,
   "metadata": {},
   "outputs": [
    {
     "name": "stdout",
     "output_type": "stream",
     "text": [
      "Quit successfully...\n"
     ]
    }
   ],
   "source": [
    "c1.QuitARecipient(\"Robert\", 2, \"Good lady\")"
   ]
  },
  {
   "cell_type": "code",
   "execution_count": 358,
   "metadata": {},
   "outputs": [
    {
     "name": "stdout",
     "output_type": "stream",
     "text": [
      "Joe     \t\t\t Care Giver :  Prashant\n"
     ]
    }
   ],
   "source": [
    "theTrust.ShowWhoIsTakingCareOfRecipients()"
   ]
  },
  {
   "cell_type": "markdown",
   "metadata": {},
   "source": [
    "### Now the allocation of recipients will be according to their ratings "
   ]
  },
  {
   "cell_type": "code",
   "execution_count": 359,
   "metadata": {},
   "outputs": [
    {
     "name": "stdout",
     "output_type": "stream",
     "text": [
      "Tushar  asked for the allocation of recipient..\n",
      "Tushar  got the allocation of recipient.. :  Monica\n"
     ]
    }
   ],
   "source": [
    "c1.AllocateARecipient()"
   ]
  },
  {
   "cell_type": "code",
   "execution_count": 360,
   "metadata": {},
   "outputs": [
    {
     "name": "stdout",
     "output_type": "stream",
     "text": [
      "Tushar  asked for the allocation of recipient..\n",
      "Tushar  got the allocation of recipient.. :  Perry\n"
     ]
    }
   ],
   "source": [
    "c1.AllocateARecipient()"
   ]
  },
  {
   "cell_type": "code",
   "execution_count": 361,
   "metadata": {},
   "outputs": [
    {
     "name": "stdout",
     "output_type": "stream",
     "text": [
      "Tushar  asked for the allocation of recipient..\n",
      "Tushar  got the allocation of recipient.. :  Robert\n"
     ]
    }
   ],
   "source": [
    "c1.AllocateARecipient()"
   ]
  },
  {
   "cell_type": "code",
   "execution_count": 362,
   "metadata": {},
   "outputs": [
    {
     "name": "stdout",
     "output_type": "stream",
     "text": [
      "Tushar  asked for the allocation of recipient..\n",
      "Tushar  got the allocation of recipient.. :  Al Paccino\n"
     ]
    }
   ],
   "source": [
    "c1.AllocateARecipient()"
   ]
  },
  {
   "cell_type": "code",
   "execution_count": 363,
   "metadata": {},
   "outputs": [
    {
     "name": "stdout",
     "output_type": "stream",
     "text": [
      "Already have 4 recipients!!\n"
     ]
    }
   ],
   "source": [
    "c1.AllocateARecipient()"
   ]
  },
  {
   "cell_type": "code",
   "execution_count": 364,
   "metadata": {},
   "outputs": [
    {
     "name": "stdout",
     "output_type": "stream",
     "text": [
      "Prashant  asked for the allocation of recipient..\n",
      "Prashant  got the allocation of recipient.. :  Ross\n"
     ]
    }
   ],
   "source": [
    "c2.AllocateARecipient()"
   ]
  },
  {
   "cell_type": "code",
   "execution_count": 365,
   "metadata": {},
   "outputs": [
    {
     "name": "stdout",
     "output_type": "stream",
     "text": [
      "Prashant  asked for the allocation of recipient..\n",
      "Seems no recipient available at the moment..\n"
     ]
    }
   ],
   "source": [
    "c2.AllocateARecipient()"
   ]
  },
  {
   "cell_type": "code",
   "execution_count": 366,
   "metadata": {},
   "outputs": [
    {
     "name": "stdout",
     "output_type": "stream",
     "text": [
      "Monica     \t\t\t Care Giver :  Tushar\n",
      "Perry     \t\t\t Care Giver :  Tushar\n",
      "Robert     \t\t\t Care Giver :  Tushar\n",
      "Al Paccino     \t\t\t Care Giver :  Tushar\n",
      "Ross     \t\t\t Care Giver :  Prashant\n",
      "Joe     \t\t\t Care Giver :  Prashant\n"
     ]
    }
   ],
   "source": [
    "theTrust.ShowWhoIsTakingCareOfRecipients()"
   ]
  },
  {
   "cell_type": "markdown",
   "metadata": {},
   "source": [
    "### When recipients fire a caregiver  "
   ]
  },
  {
   "cell_type": "code",
   "execution_count": 367,
   "metadata": {},
   "outputs": [
    {
     "name": "stdout",
     "output_type": "stream",
     "text": [
      "Already have a caregiver ! :  Tushar\n"
     ]
    }
   ],
   "source": [
    "r6.AllocateACareGiver()"
   ]
  },
  {
   "cell_type": "code",
   "execution_count": 368,
   "metadata": {},
   "outputs": [
    {
     "name": "stdout",
     "output_type": "stream",
     "text": [
      "Tushar  Just got fired !\n",
      "Tushar  rating alloted\n"
     ]
    }
   ],
   "source": [
    "r1.FireTheCareGiver(2, \"Not good service\")"
   ]
  },
  {
   "cell_type": "code",
   "execution_count": 369,
   "metadata": {},
   "outputs": [
    {
     "name": "stdout",
     "output_type": "stream",
     "text": [
      "Tushar  Just got fired !\n",
      "Tushar  rating alloted\n"
     ]
    }
   ],
   "source": [
    "r2.FireTheCareGiver(3, \"okkkkeeyyy\")"
   ]
  },
  {
   "cell_type": "code",
   "execution_count": 370,
   "metadata": {},
   "outputs": [
    {
     "name": "stdout",
     "output_type": "stream",
     "text": [
      "Tushar  Just got fired !\n",
      "Tushar  rating alloted\n"
     ]
    }
   ],
   "source": [
    "r4.FireTheCareGiver(4, \"good enough\")"
   ]
  },
  {
   "cell_type": "code",
   "execution_count": 371,
   "metadata": {},
   "outputs": [
    {
     "name": "stdout",
     "output_type": "stream",
     "text": [
      "Prashant  Just got fired !\n",
      "Prashant  rating alloted\n"
     ]
    }
   ],
   "source": [
    "r5.FireTheCareGiver(5, \"Excelante\")"
   ]
  },
  {
   "cell_type": "code",
   "execution_count": 372,
   "metadata": {},
   "outputs": [
    {
     "name": "stdout",
     "output_type": "stream",
     "text": [
      "Tushar  asked for the allocation of recipient..\n",
      "Tushar  got the allocation of recipient.. :  Perry\n"
     ]
    }
   ],
   "source": [
    "c1.AllocateARecipient()"
   ]
  },
  {
   "cell_type": "code",
   "execution_count": 373,
   "metadata": {},
   "outputs": [
    {
     "name": "stdout",
     "output_type": "stream",
     "text": [
      "Prashant  asked for the allocation of recipient..\n",
      "Prashant  got the allocation of recipient.. :  Robert\n"
     ]
    }
   ],
   "source": [
    "c2.AllocateARecipient()"
   ]
  },
  {
   "cell_type": "code",
   "execution_count": 374,
   "metadata": {},
   "outputs": [
    {
     "name": "stdout",
     "output_type": "stream",
     "text": [
      "Scott  asked for the allocation of recipient..\n",
      "Scott  got the allocation of recipient.. :  Al Paccino\n"
     ]
    }
   ],
   "source": [
    "c4.AllocateARecipient()"
   ]
  },
  {
   "cell_type": "code",
   "execution_count": 378,
   "metadata": {},
   "outputs": [],
   "source": [
    "c2.MakeYourselfAvailable()"
   ]
  },
  {
   "cell_type": "code",
   "execution_count": 380,
   "metadata": {},
   "outputs": [
    {
     "name": "stdout",
     "output_type": "stream",
     "text": [
      "Already have a caregiver ! :  Prashant\n"
     ]
    }
   ],
   "source": [
    "r5.AllocateACareGiver()"
   ]
  },
  {
   "cell_type": "markdown",
   "metadata": {},
   "source": [
    "### Show all the connections and rating history   \n"
   ]
  },
  {
   "cell_type": "code",
   "execution_count": 381,
   "metadata": {},
   "outputs": [
    {
     "name": "stdout",
     "output_type": "stream",
     "text": [
      "Monica     \t\t\t Care Giver :  Tushar\n",
      "Perry     \t\t\t Care Giver :  Tushar\n",
      "Robert     \t\t\t Care Giver :  Prashant\n",
      "Al Paccino     \t\t\t Care Giver :  Scott\n",
      "Ross     \t\t\t Care Giver :  Prashant\n",
      "Joe     \t\t\t Care Giver :  Prashant\n"
     ]
    }
   ],
   "source": [
    "theTrust.ShowWhoIsTakingCareOfRecipients()"
   ]
  },
  {
   "cell_type": "code",
   "execution_count": 382,
   "metadata": {},
   "outputs": [
    {
     "name": "stdout",
     "output_type": "stream",
     "text": [
      "Prashant  rating :  5.0\n",
      "\t\t\t 5   Excelante\n",
      "Tushar  rating :  3.0\n",
      "\t\t\t 2   Not good service\n",
      "\t\t\t 3   okkkkeeyyy\n",
      "\t\t\t 4   good enough\n",
      "Adam  rating :  0\n",
      "Scott  rating :  0\n"
     ]
    }
   ],
   "source": [
    "theTrust.ShowAllCaregiversData()"
   ]
  },
  {
   "cell_type": "markdown",
   "metadata": {},
   "source": [
    "### First Draft Done"
   ]
  }
 ],
 "metadata": {
  "kernelspec": {
   "display_name": "Python 3",
   "language": "python",
   "name": "python3"
  }
 },
 "nbformat": 4,
 "nbformat_minor": 2
}
