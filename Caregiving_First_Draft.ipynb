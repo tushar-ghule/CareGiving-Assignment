{
 "cells": [
  {
   "cell_type": "code",
   "execution_count": 186,
   "metadata": {},
   "outputs": [],
   "source": [
    "class CareGiver:\n",
    "    def __init__(self, name, id, trust, approved = False):\n",
    "        self.m_name = name\n",
    "        self.m_id = id\n",
    "        self.m_trust = trust\n",
    "        self.m_isApproved = approved\n",
    "        self.m_ratings = {}\n",
    "        self.m_recipient = []\n",
    "        self.m_available = False\n",
    "        self.m_ratingAvg = 0\n",
    "        self.m_noOfClients = 0\n",
    "        self.m_trust.m_careGivers.append(self)\n",
    "        #bisect.insort_left(self.m_trust.m_careGivers, self)\n",
    "    \n",
    "    # Getters & Setters... \n",
    "    def GetTrusty(self):\n",
    "        return self.m_trust\n",
    "    def GetAvailability(self):\n",
    "        return self.m_available\n",
    "    def GetName(self):\n",
    "        return self.m_name\n",
    "    def GetAvgRating(self):\n",
    "        return self.m_ratingAvg\n",
    "    \n",
    "    #for sorting\n",
    "    def __lt__(self, other):\n",
    "        return self.m_ratingAvg < other.m_ratingAvg\n",
    "    \n",
    "    def GetARecipients(self):\n",
    "        # remove later, should not be accessible from outside....\n",
    "        return self.m_recipient\n",
    "    def GetApproved(self):\n",
    "        self.m_isApproved = True\n",
    "        self.m_available = True\n",
    "        return\n",
    "    def SetAvailability(self, available):\n",
    "        self.m_available = available\n",
    "        return\n",
    "        \n",
    "    def AllocateARecipient(self):\n",
    "        if(len(self.m_recipient) < 4):\n",
    "            recipient = self.m_trust.AllocateARecipient(self)\n",
    "            print(self.m_name, \" asked for the allocation of recipient..\")\n",
    "            if recipient != None :\n",
    "                # care giver may or may not get the recipient now but, since he has made himself, he could be picked by a \n",
    "                # recipient...\n",
    "                self.m_recipient.append(recipient)\n",
    "                print(self.m_name, \" got the allocation of recipient.. : \", recipient.m_name)\n",
    "                recipient.m_careGiver = self\n",
    "                self.SetAvailability(False) ## check....\n",
    "                # above line should ba taken care of in the trust fuction... The mutual connection....\n",
    "            else: \n",
    "                print(\"Seems no recipient available at the moment..\")\n",
    "        else:\n",
    "            print(\"Already have 4 recipients!!\")\n",
    "\n",
    "    def MakeYourselfAvailable(self):\n",
    "        if len(self.m_recipient) < 4 :\n",
    "            if self.m_isApproved :\n",
    "                self.m_available = True\n",
    "        # When caregiver is fired by the recipient, m_available is set to False, also when caregiver gets assigned new recipient\n",
    "        # m_available is set to False. Hence, if the caregiver want's more recipient, he has to set m_available to True and also \n",
    "        # call the funstion AllocateARecipient()\n",
    "        return\n",
    "    \n",
    "    def QuitARecipient(self, name, rating, reviews = \"\"):\n",
    "        # hence the call for the rating should be handdled by the trust. \n",
    "        # for now just go with the one way of the rating allotings....\n",
    "        # we have to remove connections from both sides. Just the way we formed the connection on both sides...\n",
    "        # remove the entry from the both sides { later do it in the trust functions }\n",
    "        recipient = next((x for x in self.m_recipient if x.m_name == name), None)\n",
    "        if(recipient != None):\n",
    "            \n",
    "            recipient.m_careGiver = None\n",
    "            recipient.SetAvailability(True)\n",
    "            recipient.AllotTheRating(rating, reviews)      ## definr this function in the recipient and caregiver classes.\n",
    "            self.m_recipient.remove(recipient)             ## Generalize them in the trust class...\n",
    "            # Do the same thing with FireCareGiver() in Recipient class..... \n",
    "        else: \n",
    "            print(\"Not my recipient....\")\n",
    "        return \n",
    "        \n",
    "        \n",
    "    def AllotTheRating(self, rating, reviews):\n",
    "        self.m_ratingAvg = (self.m_ratingAvg*self.m_noOfClients + rating)/(self.m_noOfClients + 1)\n",
    "        self.m_ratings.update( {rating : reviews})\n",
    "        self.m_noOfClients += 1\n",
    "        print(self.m_name, \" rating alloted\")\n",
    "        return None\n",
    "        "
   ]
  },
  {
   "cell_type": "code",
   "execution_count": 187,
   "metadata": {},
   "outputs": [],
   "source": [
    "import bisect "
   ]
  },
  {
   "cell_type": "code",
   "execution_count": 188,
   "metadata": {},
   "outputs": [],
   "source": [
    " class Trust:\n",
    "        def __init__(self):\n",
    "            self.m_careGivers = []\n",
    "            self.m_recipients = []\n",
    "            \n",
    "        def ShowAllTheCareGivers(self):\n",
    "            return self.m_careGivers\n",
    "        def AllocateARecipient(self, careGiver):\n",
    "            # Here I might need care_giver info for the ratings..But for now just allocate first available recipient...\n",
    "            # Here we need to update the content info of the trust as well as the corrosponding caregiver. \n",
    "            # See if we only need to update the caregiver info and make it update it's info in the trust container automatically\n",
    "            # Like a pointer.\n",
    "            self.m_recipients.sort(key=lambda x: x.m_ratingAvg, reverse=True)\n",
    "            \n",
    "            for rec in self.m_recipients :\n",
    "                if(rec.GetAvailability()):\n",
    "                    # I should write a function to access this.. \n",
    "                    rec.m_available = False\n",
    "                    return rec\n",
    "            return None\n",
    "        \n",
    "        def AllocateACareGiver(self, recipient):\n",
    "            self.m_careGivers.sort(key=lambda x: x.m_ratingAvg, reverse=True)\n",
    "            for cg in self.m_careGivers :\n",
    "                if(cg.GetAvailability()):\n",
    "                    if(len(cg.m_recipient) < 4):\n",
    "                        return cg\n",
    "            return None\n",
    "        \n",
    "        def ShowAllCaregiversData(self):\n",
    "            for cg in self.m_careGivers :\n",
    "                print(cg.GetName(), \" rating : \", cg.m_ratingAvg)\n",
    "                for rating in cg.m_ratings :\n",
    "                    print(\"\\t\\t\\t\", rating, \" \", cg.m_ratings[rating])\n",
    "            return \n",
    "        \n",
    "        def ShowHowIsTakingCareOfRecipients(self):\n",
    "            for rp in self.m_recipients :\n",
    "                print(rp.GetName(), \" \\t\\t Care Giver : \", rp.m_careGiver.m_name)\n",
    "                \n",
    "            "
   ]
  },
  {
   "cell_type": "code",
   "execution_count": 189,
   "metadata": {},
   "outputs": [],
   "source": [
    "class Recipient:\n",
    "    \n",
    "    def __init__(self, name, id, trust, available = True):\n",
    "        self.m_name = name\n",
    "        self.m_id = id;\n",
    "        self.m_trust = trust\n",
    "        self.m_available = available\n",
    "        self.m_careGiver = None\n",
    "        self.m_ratings = {}\n",
    "        self.m_ratingAvg = 0\n",
    "        self.m_noOfClients = 0\n",
    "        self.m_trust.m_recipients.append(self)\n",
    "        #bisect.insort_left(self.m_trust.m_recipients, self)\n",
    "    \n",
    "    # Getters & Setters...  \n",
    "    def GetTrusty(self):\n",
    "        return self.m_trust\n",
    "    def GetAvailability(self):\n",
    "        return self.m_available\n",
    "    def GetName(self):\n",
    "        return self.m_name\n",
    "    def SetAvailability(self, available):\n",
    "        self.m_available = available\n",
    "        return\n",
    "    #for sorting\n",
    "    def __lt__(self, other):\n",
    "        return self.m_ratingAvg < other.m_ratingAvg\n",
    "        \n",
    "    def AllocateACareGiver(self):\n",
    "        # should be the work of the trust::\n",
    "        if(self.m_careGiver == None):  # no need to check .. rather if he already has a caregiver then skip \n",
    "            careGiver = self.GetTrusty().AllocateACareGiver(self) \n",
    "            if(careGiver != None):\n",
    "                # exchange info and make recipient unavailable. that's it....\n",
    "                self.m_careGiver = careGiver\n",
    "                careGiver.m_recipient.append(self)\n",
    "                self.SetAvailability(False)\n",
    "                print(\"Care giver allocated : \", careGiver.m_name)\n",
    "                #careGiver.m_available = False   #not recipients headache. caregiver can still get upto 4 recipients\n",
    "            else: \n",
    "                    print(\" No care givers available at the moment..\")\n",
    "        else:\n",
    "            print(\"Already have a caregiver ! : \", self.m_careGiver.m_name) \n",
    "        \n",
    "    def FireTheCareGiver(self, rating, reviews):\n",
    "        # remove the caregiver info \n",
    "        # Make youself available... for next CG \n",
    "        if(self.m_careGiver != None):\n",
    "            self.m_careGiver.m_recipient.remove(self) ## Not sure if this will work sinec, it contains the cycle. \n",
    "            self.SetAvailability(True)\n",
    "            print(self.m_careGiver.m_name, \" Just got fired !\")\n",
    "            self.m_careGiver.AllotTheRating(rating, reviews) ## definr this function in the recipient and caregiver classes.\n",
    "            self.m_careGiver = None\n",
    "        return\n",
    "    \n",
    "    def AllotTheRating(self, rating, reviews):\n",
    "        self.m_ratingAvg = (self.m_ratingAvg*self.m_noOfClients + rating)/(self.m_noOfClients + 1)\n",
    "        self.m_noOfClients += 1;\n",
    "        self.m_ratings.update( {rating : reviews} )"
   ]
  },
  {
   "cell_type": "markdown",
   "metadata": {},
   "source": [
    "## caregiver should not have the access to recipient info and recipient should not have care givers info.. \n",
    "## How to make it happen.. \n",
    "## both should not be able to access trust's parameters and functions through m_trust parameter..."
   ]
  },
  {
   "cell_type": "code",
   "execution_count": 190,
   "metadata": {},
   "outputs": [
    {
     "name": "stdout",
     "output_type": "stream",
     "text": [
      "Tushar  asked for the allocation of recipient..\n",
      "Tushar  got the allocation of recipient.. :  Al Paccino\n",
      "Tushar  asked for the allocation of recipient..\n",
      "Tushar  got the allocation of recipient.. :  Robert\n"
     ]
    },
    {
     "data": {
      "text/plain": [
       "'Al Paccino'"
      ]
     },
     "execution_count": 190,
     "metadata": {},
     "output_type": "execute_result"
    }
   ],
   "source": [
    "theTrust = Trust()\n",
    "c1 = CareGiver(\"Tushar\", 1, theTrust)\n",
    "c2 = CareGiver(\"Prashant\", 2, theTrust)\n",
    "c3 = CareGiver(\"Adam\", 3, theTrust)\n",
    "c4 = CareGiver(\"Scott\", 4, theTrust)\n",
    "r1 = Recipient(\"Al Paccino\", 1, theTrust)\n",
    "r2 = Recipient(\"Robert\", 2, theTrust)\n",
    "r3 = Recipient(\"Joe\", 3, theTrust)\n",
    "r4 = Recipient(\"Perry\", 4, theTrust)\n",
    "r5 = Recipient(\"Ross\", 5, theTrust)\n",
    "r6 = Recipient(\"Monica\", 6, theTrust)\n",
    "c1.GetApproved()\n",
    "c2.GetApproved()\n",
    "c3.GetApproved()\n",
    "c1.AllocateARecipient()\n",
    "c1.AllocateARecipient()\n",
    "len(c1.m_recipient)\n",
    "c1.m_recipient[0].m_name"
   ]
  },
  {
   "cell_type": "code",
   "execution_count": 191,
   "metadata": {},
   "outputs": [
    {
     "name": "stdout",
     "output_type": "stream",
     "text": [
      "Prashant  asked for the allocation of recipient..\n",
      "Prashant  got the allocation of recipient.. :  Joe\n"
     ]
    }
   ],
   "source": [
    "c2.AllocateARecipient()"
   ]
  },
  {
   "cell_type": "code",
   "execution_count": 192,
   "metadata": {},
   "outputs": [
    {
     "name": "stdout",
     "output_type": "stream",
     "text": [
      "Adam  asked for the allocation of recipient..\n",
      "Adam  got the allocation of recipient.. :  Perry\n"
     ]
    }
   ],
   "source": [
    "c3.AllocateARecipient()"
   ]
  },
  {
   "cell_type": "code",
   "execution_count": 193,
   "metadata": {},
   "outputs": [
    {
     "name": "stdout",
     "output_type": "stream",
     "text": [
      "Prashant  asked for the allocation of recipient..\n",
      "Prashant  got the allocation of recipient.. :  Ross\n"
     ]
    }
   ],
   "source": [
    "c2.AllocateARecipient()"
   ]
  },
  {
   "cell_type": "code",
   "execution_count": 194,
   "metadata": {},
   "outputs": [
    {
     "name": "stdout",
     "output_type": "stream",
     "text": [
      "Tushar  asked for the allocation of recipient..\n",
      "Tushar  got the allocation of recipient.. :  Monica\n"
     ]
    }
   ],
   "source": [
    "c1.AllocateARecipient()"
   ]
  },
  {
   "cell_type": "code",
   "execution_count": 195,
   "metadata": {},
   "outputs": [],
   "source": [
    "c1.QuitARecipient(\"Monica\", 4, \"Good lady\")"
   ]
  },
  {
   "cell_type": "code",
   "execution_count": 197,
   "metadata": {},
   "outputs": [],
   "source": [
    "c3.QuitARecipient(\"Perry\", 3, \"Good lady\")"
   ]
  },
  {
   "cell_type": "code",
   "execution_count": 199,
   "metadata": {},
   "outputs": [],
   "source": [
    "c2.QuitARecipient(\"Ross\", 1, \"Good lady\")"
   ]
  },
  {
   "cell_type": "code",
   "execution_count": 200,
   "metadata": {},
   "outputs": [],
   "source": [
    "c1.QuitARecipient(\"Al Paccino\", 1.5, \"Huuaa\")"
   ]
  },
  {
   "cell_type": "code",
   "execution_count": 202,
   "metadata": {},
   "outputs": [],
   "source": [
    "c1.QuitARecipient(\"Robert\", 2, \"Good lady\")"
   ]
  },
  {
   "cell_type": "code",
   "execution_count": 203,
   "metadata": {},
   "outputs": [
    {
     "name": "stdout",
     "output_type": "stream",
     "text": [
      "Tushar  asked for the allocation of recipient..\n",
      "Tushar  got the allocation of recipient.. :  Monica\n"
     ]
    }
   ],
   "source": [
    "c1.AllocateARecipient()"
   ]
  },
  {
   "cell_type": "code",
   "execution_count": 204,
   "metadata": {},
   "outputs": [
    {
     "name": "stdout",
     "output_type": "stream",
     "text": [
      "Tushar  asked for the allocation of recipient..\n",
      "Tushar  got the allocation of recipient.. :  Perry\n"
     ]
    }
   ],
   "source": [
    "c1.AllocateARecipient()"
   ]
  },
  {
   "cell_type": "code",
   "execution_count": 205,
   "metadata": {},
   "outputs": [
    {
     "name": "stdout",
     "output_type": "stream",
     "text": [
      "Tushar  asked for the allocation of recipient..\n",
      "Tushar  got the allocation of recipient.. :  Robert\n"
     ]
    }
   ],
   "source": [
    "c1.AllocateARecipient()"
   ]
  },
  {
   "cell_type": "code",
   "execution_count": 206,
   "metadata": {},
   "outputs": [
    {
     "name": "stdout",
     "output_type": "stream",
     "text": [
      "Tushar  asked for the allocation of recipient..\n",
      "Tushar  got the allocation of recipient.. :  Al Paccino\n"
     ]
    }
   ],
   "source": [
    "c1.AllocateARecipient()"
   ]
  },
  {
   "cell_type": "code",
   "execution_count": 208,
   "metadata": {},
   "outputs": [
    {
     "name": "stdout",
     "output_type": "stream",
     "text": [
      "Prashant  asked for the allocation of recipient..\n",
      "Prashant  got the allocation of recipient.. :  Ross\n"
     ]
    }
   ],
   "source": [
    "c2.AllocateARecipient()"
   ]
  },
  {
   "cell_type": "code",
   "execution_count": 210,
   "metadata": {},
   "outputs": [
    {
     "name": "stdout",
     "output_type": "stream",
     "text": [
      "Prashant  asked for the allocation of recipient..\n",
      "Seems no recipient available at the moment..\n"
     ]
    }
   ],
   "source": [
    "c2.AllocateARecipient()"
   ]
  },
  {
   "cell_type": "code",
   "execution_count": 211,
   "metadata": {},
   "outputs": [
    {
     "data": {
      "text/plain": [
       "True"
      ]
     },
     "execution_count": 211,
     "metadata": {},
     "output_type": "execute_result"
    }
   ],
   "source": [
    "c2.m_isApproved"
   ]
  },
  {
   "cell_type": "code",
   "execution_count": 212,
   "metadata": {},
   "outputs": [
    {
     "data": {
      "text/plain": [
       "4"
      ]
     },
     "execution_count": 212,
     "metadata": {},
     "output_type": "execute_result"
    }
   ],
   "source": [
    "len(c1.m_recipient)"
   ]
  },
  {
   "cell_type": "code",
   "execution_count": 213,
   "metadata": {},
   "outputs": [
    {
     "name": "stdout",
     "output_type": "stream",
     "text": [
      "Already have a caregiver ! :  Tushar\n"
     ]
    }
   ],
   "source": [
    "r6.AllocateACareGiver()"
   ]
  },
  {
   "cell_type": "code",
   "execution_count": 214,
   "metadata": {},
   "outputs": [],
   "source": [
    "c1.MakeYourselfAvailable()"
   ]
  },
  {
   "cell_type": "code",
   "execution_count": 215,
   "metadata": {},
   "outputs": [
    {
     "name": "stdout",
     "output_type": "stream",
     "text": [
      "Tushar  Just got fired !\n",
      "Tushar  rating alloted\n"
     ]
    }
   ],
   "source": [
    "r1.FireTheCareGiver(2, \"Not good service\")"
   ]
  },
  {
   "cell_type": "code",
   "execution_count": 216,
   "metadata": {},
   "outputs": [
    {
     "name": "stdout",
     "output_type": "stream",
     "text": [
      "Tushar  Just got fired !\n",
      "Tushar  rating alloted\n"
     ]
    }
   ],
   "source": [
    "r2.FireTheCareGiver(3, \"okkkkeeyyy\")"
   ]
  },
  {
   "cell_type": "code",
   "execution_count": 217,
   "metadata": {},
   "outputs": [
    {
     "name": "stdout",
     "output_type": "stream",
     "text": [
      "Tushar  Just got fired !\n",
      "Tushar  rating alloted\n"
     ]
    }
   ],
   "source": [
    "r4.FireTheCareGiver(4, \"good enough\")"
   ]
  },
  {
   "cell_type": "code",
   "execution_count": 218,
   "metadata": {},
   "outputs": [
    {
     "name": "stdout",
     "output_type": "stream",
     "text": [
      "Prashant  Just got fired !\n",
      "Prashant  rating alloted\n"
     ]
    }
   ],
   "source": [
    "r5.FireTheCareGiver(5, \"Excelante\")"
   ]
  },
  {
   "cell_type": "code",
   "execution_count": 219,
   "metadata": {},
   "outputs": [
    {
     "data": {
      "text/plain": [
       "False"
      ]
     },
     "execution_count": 219,
     "metadata": {},
     "output_type": "execute_result"
    }
   ],
   "source": [
    "c1.m_available"
   ]
  },
  {
   "cell_type": "code",
   "execution_count": 220,
   "metadata": {},
   "outputs": [
    {
     "name": "stdout",
     "output_type": "stream",
     "text": [
      "Tushar  asked for the allocation of recipient..\n",
      "Tushar  got the allocation of recipient.. :  Perry\n"
     ]
    }
   ],
   "source": [
    "c1.AllocateARecipient()"
   ]
  },
  {
   "cell_type": "code",
   "execution_count": 221,
   "metadata": {},
   "outputs": [
    {
     "name": "stdout",
     "output_type": "stream",
     "text": [
      "Prashant  asked for the allocation of recipient..\n",
      "Prashant  got the allocation of recipient.. :  Robert\n"
     ]
    }
   ],
   "source": [
    "c2.AllocateARecipient()"
   ]
  },
  {
   "cell_type": "code",
   "execution_count": 148,
   "metadata": {},
   "outputs": [],
   "source": [
    "c4.MakeYourselfAvailable()"
   ]
  },
  {
   "cell_type": "code",
   "execution_count": 151,
   "metadata": {},
   "outputs": [
    {
     "name": "stdout",
     "output_type": "stream",
     "text": [
      "Scott  asked for the allocation of recipient..\n",
      "Seems no recipient available at the moment..\n"
     ]
    }
   ],
   "source": [
    "c4.AllocateARecipient()"
   ]
  },
  {
   "cell_type": "markdown",
   "metadata": {},
   "source": [
    "#### When a caregiver gets a recipient, normally he would make himself unavailable. But it's his choice. #### If all caregivers ask for one recipient, when new recipient would not find a caregiver. #### Hence caregiver can make himself available upto 4 recipients ....."
   ]
  },
  {
   "cell_type": "markdown",
   "metadata": {},
   "source": [
    "### testing multiple recipient and multiple firing and reting calculations.. Works fine so far...\n",
    "r2.FireTheCareGiver(2, \"Not good\")\n",
    "r1.FireTheCareGiver(4, \"Good\")\n",
    "print(len(c1.m_recipient))\n",
    "print(c1.m_ratingAvg)"
   ]
  },
  {
   "cell_type": "code",
   "execution_count": 224,
   "metadata": {},
   "outputs": [
    {
     "name": "stdout",
     "output_type": "stream",
     "text": [
      "Monica  \t\t Care Giver :  Tushar\n",
      "Perry  \t\t Care Giver :  Tushar\n",
      "Robert  \t\t Care Giver :  Prashant\n"
     ]
    },
    {
     "ename": "AttributeError",
     "evalue": "'NoneType' object has no attribute 'm_name'",
     "output_type": "error",
     "traceback": [
      "\u001b[1;31m---------------------------------------------------------------------------\u001b[0m",
      "\u001b[1;31mAttributeError\u001b[0m                            Traceback (most recent call last)",
      "\u001b[1;32m<ipython-input-224-57f0621fcc83>\u001b[0m in \u001b[0;36m<module>\u001b[1;34m()\u001b[0m\n\u001b[1;32m----> 1\u001b[1;33m \u001b[0mtheTrust\u001b[0m\u001b[1;33m.\u001b[0m\u001b[0mShowHowIsTakingCareOfRecipients\u001b[0m\u001b[1;33m(\u001b[0m\u001b[1;33m)\u001b[0m\u001b[1;33m\u001b[0m\u001b[0m\n\u001b[0m\u001b[0;32m      2\u001b[0m \u001b[1;31m# why is there None in trust.m_recipient    .. find out\u001b[0m\u001b[1;33m\u001b[0m\u001b[1;33m\u001b[0m\u001b[0m\n",
      "\u001b[1;32m<ipython-input-188-a710591567d3>\u001b[0m in \u001b[0;36mShowHowIsTakingCareOfRecipients\u001b[1;34m(self)\u001b[0m\n\u001b[0;32m     37\u001b[0m        \u001b[1;32mdef\u001b[0m \u001b[0mShowHowIsTakingCareOfRecipients\u001b[0m\u001b[1;33m(\u001b[0m\u001b[0mself\u001b[0m\u001b[1;33m)\u001b[0m\u001b[1;33m:\u001b[0m\u001b[1;33m\u001b[0m\u001b[0m\n\u001b[0;32m     38\u001b[0m            \u001b[1;32mfor\u001b[0m \u001b[0mrp\u001b[0m \u001b[1;32min\u001b[0m \u001b[0mself\u001b[0m\u001b[1;33m.\u001b[0m\u001b[0mm_recipients\u001b[0m \u001b[1;33m:\u001b[0m\u001b[1;33m\u001b[0m\u001b[0m\n\u001b[1;32m---> 39\u001b[1;33m                \u001b[0mprint\u001b[0m\u001b[1;33m(\u001b[0m\u001b[0mrp\u001b[0m\u001b[1;33m.\u001b[0m\u001b[0mGetName\u001b[0m\u001b[1;33m(\u001b[0m\u001b[1;33m)\u001b[0m\u001b[1;33m,\u001b[0m \u001b[1;34m\" \\t\\t Care Giver : \"\u001b[0m\u001b[1;33m,\u001b[0m \u001b[0mrp\u001b[0m\u001b[1;33m.\u001b[0m\u001b[0mm_careGiver\u001b[0m\u001b[1;33m.\u001b[0m\u001b[0mm_name\u001b[0m\u001b[1;33m)\u001b[0m\u001b[1;33m\u001b[0m\u001b[0m\n\u001b[0m\u001b[0;32m     40\u001b[0m \u001b[1;33m\u001b[0m\u001b[0m\n\u001b[0;32m     41\u001b[0m \u001b[1;33m\u001b[0m\u001b[0m\n",
      "\u001b[1;31mAttributeError\u001b[0m: 'NoneType' object has no attribute 'm_name'"
     ]
    }
   ],
   "source": [
    "theTrust.ShowHowIsTakingCareOfRecipients()\n",
    "# why is there None in trust.m_recipient    .. find out"
   ]
  },
  {
   "cell_type": "code",
   "execution_count": 45,
   "metadata": {},
   "outputs": [
    {
     "name": "stdout",
     "output_type": "stream",
     "text": [
      "0\n",
      "Tushar  Just got fired !\n",
      "Tushar  rating alloted\n",
      "0\n",
      "Tushar  Just got fired !\n",
      "Tushar  rating alloted\n",
      "0\n"
     ]
    }
   ],
   "source": [
    "print(c2.m_ratingAvg)\n",
    "r2.FireTheCareGiver(2, \"Not good\")\n",
    "print(c2.m_ratingAvg)\n",
    "r1.FireTheCareGiver(4, \"Good\")\n",
    "print(c2.m_ratingAvg)"
   ]
  },
  {
   "cell_type": "code",
   "execution_count": 223,
   "metadata": {},
   "outputs": [
    {
     "name": "stdout",
     "output_type": "stream",
     "text": [
      "Tushar  rating :  3.0\n",
      "\t\t\t 2   Not good service\n",
      "\t\t\t 3   okkkkeeyyy\n",
      "\t\t\t 4   good enough\n",
      "Prashant  rating :  5.0\n",
      "\t\t\t 5   Excelante\n",
      "Adam  rating :  0\n",
      "Scott  rating :  0\n"
     ]
    },
    {
     "data": {
      "text/plain": [
       "1"
      ]
     },
     "execution_count": 223,
     "metadata": {},
     "output_type": "execute_result"
    }
   ],
   "source": [
    "theTrust.ShowAllCaregiversData()\n",
    "## how did prashant get any ratings ?????   Doubt .....\n",
    "c2.m_noOfClients"
   ]
  },
  {
   "cell_type": "code",
   "execution_count": 133,
   "metadata": {},
   "outputs": [
    {
     "data": {
      "text/plain": [
       "0"
      ]
     },
     "execution_count": 133,
     "metadata": {},
     "output_type": "execute_result"
    }
   ],
   "source": []
  },
  {
   "cell_type": "markdown",
   "metadata": {},
   "source": [
    "## Remember: when caregiver fire the recipient/ recipient fires the caregiver : \n",
    "## recipient automatically makes himself available , True\n",
    "## but caregiver is not available by default. He has to make himself available again to find next recipient....."
   ]
  },
  {
   "cell_type": "markdown",
   "metadata": {},
   "source": [
    "##test 3\n",
    "##fire caregiver of the r1.\n",
    "##check if the relationsship is updated and also check for the rating update.\n",
    "r1.FireTheCareGiver(4, \"Good service\")\n",
    "print(len(c1.m_recipient))\n",
    "print(c1.m_noOfClients)"
   ]
  },
  {
   "cell_type": "code",
   "execution_count": null,
   "metadata": {},
   "outputs": [],
   "source": []
  },
  {
   "cell_type": "markdown",
   "metadata": {},
   "source": [
    "c1.m_trust.m_careGivers[0].m_name  // Cycle "
   ]
  },
  {
   "cell_type": "markdown",
   "metadata": {},
   "source": [
    "### we saw that, the update of the caregiver outside reflected in the trust container as well.. Hurreeeyyyy!!!!"
   ]
  },
  {
   "cell_type": "markdown",
   "metadata": {},
   "source": [
    "###  First part is done, Now lets work on getter and setters..................................................................................................\n",
    "###  Then let's work on next step. \n",
    "####  {May be rating allocation -- Done\n",
    "####  firing -                                    Done\n",
    "####  printing all info from the trust    -- Done but, other caregivers infor isn't properly added. \n",
    "####  making trust exclusive \n",
    "####  making care giver exclusive from the recipients \n",
    "####  making the trust singleton...\n",
    "####  Use ratings to sort and allocate the recipient and caregiver..\n",
    "\n",
    "### In next draft, make allocation as common function...... And make availability False/True right there in the trust \n",
    "#### See if we can make the allocaterecipient/careGiver fucntions more generic...."
   ]
  },
  {
   "cell_type": "code",
   "execution_count": 154,
   "metadata": {},
   "outputs": [],
   "source": [
    "## for FYI, when recipient fires a caregiver, careGiver is available..... check it..\n",
    "## also change the design about making yourself availble.... it's oddd..."
   ]
  },
  {
   "cell_type": "markdown",
   "metadata": {},
   "source": [
    "### Now use rating to maintain the order and see if that works for allocating\n",
    "1] find a data container that keep the data in order by a data parameter...  \n"
   ]
  },
  {
   "cell_type": "code",
   "execution_count": null,
   "metadata": {},
   "outputs": [],
   "source": []
  }
 ],
 "metadata": {
  "kernelspec": {
   "display_name": "Python 3",
   "language": "python",
   "name": "python3"
  }
 },
 "nbformat": 4,
 "nbformat_minor": 2
}
